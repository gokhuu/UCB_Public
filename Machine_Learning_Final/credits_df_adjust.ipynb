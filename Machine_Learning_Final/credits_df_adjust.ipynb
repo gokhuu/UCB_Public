{
 "cells": [
  {
   "cell_type": "code",
   "execution_count": 12,
   "metadata": {},
   "outputs": [],
   "source": [
    "import pandas as pd\n",
    "import ast\n",
    "from collections import Counter\n",
    "from collections import defaultdict\n",
    "import numpy as np"
   ]
  },
  {
   "cell_type": "code",
   "execution_count": 13,
   "metadata": {},
   "outputs": [],
   "source": [
    "#import files\n",
    "df = pd.read_csv('data/tmdb_5000_credits.csv')"
   ]
  },
  {
   "cell_type": "code",
   "execution_count": 14,
   "metadata": {},
   "outputs": [],
   "source": [
    "#Cast cols to list/dict\n",
    "df['cast'] = df['cast'].apply(ast.literal_eval)\n",
    "df['crew'] = df['crew'].apply(ast.literal_eval)"
   ]
  },
  {
   "cell_type": "code",
   "execution_count": 15,
   "metadata": {},
   "outputs": [],
   "source": [
    "\n",
    "#filter dictionaries\n",
    "def cast_filter_fun(cast_list):\n",
    "        updated_cast_list = []\n",
    "        for cast_dictionary in cast_list:\n",
    "                cast_filter = lambda x,y: dict([(i,x[i]) for i in x if i in set(y)   ])\n",
    "                cast_filter_list = ['id', 'name','gender','order']\n",
    "                ordered_cast_dict = {k: cast_filter(cast_dictionary, cast_filter_list)[k] for k in cast_filter_list}\n",
    "                updated_cast_list.append(ordered_cast_dict)\n",
    "        return updated_cast_list"
   ]
  },
  {
   "cell_type": "code",
   "execution_count": 16,
   "metadata": {},
   "outputs": [],
   "source": [
    "#create gender ratio column\n",
    "def get_gender_ratio(ls):\n",
    "    male = 0\n",
    "    female = 0\n",
    "    noidea = 0\n",
    "    for i in ls:\n",
    "        if i['gender'] != 0:\n",
    "            if i['gender'] == 1:\n",
    "                female += 1\n",
    "            else:\n",
    "                male += 1\n",
    "        else:\n",
    "            noidea += 1\n",
    "    new_dict = {'Gender 0':noidea, 'Gender 1': female, 'Gender 2': male}\n",
    "    return new_dict"
   ]
  },
  {
   "cell_type": "code",
   "execution_count": 17,
   "metadata": {},
   "outputs": [],
   "source": [
    "#create crew filter\n",
    "\n",
    "def crew_filter_fun(cast_list):\n",
    "        updated_cast_list = []\n",
    "        for cast_dictionary in cast_list:\n",
    "                cast_filter = lambda x,y: dict([(i,x[i]) for i in x if i in set(y)   ])\n",
    "                cast_filter_list = ['id', 'name','department','gender']\n",
    "                ordered_cast_dict = {k: cast_filter(cast_dictionary, cast_filter_list)[k] for k in cast_filter_list}\n",
    "                updated_cast_list.append(ordered_cast_dict)\n",
    "        return updated_cast_list"
   ]
  },
  {
   "cell_type": "code",
   "execution_count": 18,
   "metadata": {},
   "outputs": [],
   "source": [
    "#department sizes\n",
    "def get_department_counts(dict_list):\n",
    "    if not dict_list:\n",
    "        return {}\n",
    "    \n",
    "    department_ids = defaultdict(set)\n",
    "    \n",
    "    for d in dict_list:\n",
    "        department = d.get('department')\n",
    "        crew_id = d.get('id')\n",
    "        \n",
    "        if department is not None and crew_id is not None:\n",
    "            department_ids[department].add(crew_id)\n",
    "    \n",
    "    department_counts = {dept: len(ids) for dept, ids in department_ids.items()}\n",
    "    return department_counts"
   ]
  },
  {
   "cell_type": "code",
   "execution_count": 19,
   "metadata": {},
   "outputs": [],
   "source": [
    "df['Adjusted_Cast'] = df['cast'].apply(cast_filter_fun)\n",
    "df['Cast_Size'] = df['Adjusted_Cast'].apply(len)\n",
    "df['Top_Cast'] = df['Adjusted_Cast'].apply(lambda x: x[:10])\n",
    "df['Cast_Gender_Ratio'] = df['Adjusted_Cast'].apply(get_gender_ratio)"
   ]
  },
  {
   "cell_type": "code",
   "execution_count": 20,
   "metadata": {},
   "outputs": [],
   "source": [
    "df['Adjusted_Crew'] = df['crew'].apply(crew_filter_fun)\n",
    "df['Crew_Size'] = df['Adjusted_Crew'].apply(len)\n",
    "df['Crew_Dept_Cout'] = df['Adjusted_Crew'].apply(get_department_counts)\n",
    "df['Crew_Gender_Ratio'] = df['Adjusted_Crew'].apply(get_gender_ratio)"
   ]
  },
  {
   "cell_type": "code",
   "execution_count": 21,
   "metadata": {},
   "outputs": [],
   "source": [
    "df['Cast_Crew_Ratio'] = df.apply(lambda row: row['Cast_Size'] / row['Crew_Size'] if row['Crew_Size'] else np.nan, axis=1)"
   ]
  },
  {
   "cell_type": "code",
   "execution_count": 22,
   "metadata": {},
   "outputs": [],
   "source": [
    "df.to_csv('data/Adjusted_tmdb_credits.csv', index=False)"
   ]
  }
 ],
 "metadata": {
  "kernelspec": {
   "display_name": "myenv",
   "language": "python",
   "name": "python3"
  },
  "language_info": {
   "codemirror_mode": {
    "name": "ipython",
    "version": 3
   },
   "file_extension": ".py",
   "mimetype": "text/x-python",
   "name": "python",
   "nbconvert_exporter": "python",
   "pygments_lexer": "ipython3",
   "version": "3.12.3"
  }
 },
 "nbformat": 4,
 "nbformat_minor": 2
}
