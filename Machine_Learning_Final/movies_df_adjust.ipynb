{
 "cells": [
  {
   "cell_type": "code",
   "execution_count": 1,
   "metadata": {},
   "outputs": [],
   "source": [
    "import pandas as pd\n",
    "import ast"
   ]
  },
  {
   "cell_type": "code",
   "execution_count": 2,
   "metadata": {},
   "outputs": [],
   "source": [
    "df = pd.read_csv('data/tmdb_5000_movies.csv')"
   ]
  },
  {
   "cell_type": "code",
   "execution_count": 3,
   "metadata": {},
   "outputs": [],
   "source": [
    "df['genres'] = df['genres'].apply(ast.literal_eval)\n",
    "df['production_companies'] = df['production_companies'].apply(ast.literal_eval)\n",
    "df['production_countries'] = df['production_countries'].apply(ast.literal_eval)\n",
    "df['spoken_languages'] = df['spoken_languages'].apply(ast.literal_eval)"
   ]
  },
  {
   "cell_type": "code",
   "execution_count": 4,
   "metadata": {},
   "outputs": [],
   "source": [
    "def dict_to_list(ls):\n",
    "    company_list = []\n",
    "    for i in ls:\n",
    "        company_list.append(i['name'])\n",
    "    return company_list"
   ]
  },
  {
   "cell_type": "code",
   "execution_count": 5,
   "metadata": {},
   "outputs": [],
   "source": [
    "df['Adjusted_Production_Company'] = df['production_companies'].apply(dict_to_list)\n",
    "df['Adjusted_Production_Country'] = df['production_countries'].apply(dict_to_list)\n",
    "df['Adjusted_Langauges'] = df['spoken_languages'].apply(dict_to_list)\n",
    "df['Adjusted_Genre'] = df['genres'].apply(dict_to_list)"
   ]
  },
  {
   "cell_type": "code",
   "execution_count": 6,
   "metadata": {},
   "outputs": [],
   "source": [
    "df.to_csv('data/Adjusted_tmdb_movies.csv', index=False)"
   ]
  }
 ],
 "metadata": {
  "kernelspec": {
   "display_name": "myenv",
   "language": "python",
   "name": "python3"
  },
  "language_info": {
   "codemirror_mode": {
    "name": "ipython",
    "version": 3
   },
   "file_extension": ".py",
   "mimetype": "text/x-python",
   "name": "python",
   "nbconvert_exporter": "python",
   "pygments_lexer": "ipython3",
   "version": "3.9.15"
  }
 },
 "nbformat": 4,
 "nbformat_minor": 2
}
